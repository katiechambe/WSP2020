{
 "cells": [
  {
   "cell_type": "markdown",
   "metadata": {
    "colab_type": "text",
    "id": "gLIE8INIChe2"
   },
   "source": [
    "# Making Orbital Dreams Come True\n",
    "\n",
    "We'll be using a Python package called **Rebound** which calculates orbits for planetary systems.\n",
    "\n",
    "The package solves the equations of motion (positions, velocities, and accelerations) for a planet under the influence of a star's gravitational pull.  We can explicity write down the solution for the orbit of *one* body around another, but the solution for a system with three or more objects cannot be written down. At this point, we have to turn to software packages to solve the gravitational interactions that other planets have on each other numerically.\n",
    "\n",
    "If you want more information about Rebound, you can always look at the source code and the documentation.\n",
    "\n",
    "https://github.com/hannorein/rebound\n",
    "\n",
    "http://rebound.readthedocs.org\n",
    "\n",
    "We first need to import the package that will create our orbital simulations, *Rebound*, as well as *numpy*, so we can do math, and *matplotlib* so we can make plots!"
   ]
  },
  {
   "cell_type": "code",
   "execution_count": null,
   "metadata": {
    "colab": {
     "base_uri": "https://localhost:8080/",
     "height": 141
    },
    "colab_type": "code",
    "executionInfo": {
     "elapsed": 33304,
     "status": "ok",
     "timestamp": 1592925585743,
     "user": {
      "displayName": "Katie Chamberlain",
      "photoUrl": "",
      "userId": "02373325167538393139"
     },
     "user_tz": 420
    },
    "id": "CMwJ7-nKChe4",
    "outputId": "e99fec54-3918-4481-c240-2cbb155a72be"
   },
   "outputs": [],
   "source": [
    "#################################################################\n",
    "# import some packages that will make programming easier for us #\n",
    "#################################################################\n",
    "import rebound\n",
    "import numpy as np\n",
    "from numpy import *\n",
    "import matplotlib.pyplot as plt\n",
    "%matplotlib inline  \n",
    "\n",
    "#################################################################\n",
    "# in order to use other notebooks in this folder,               #\n",
    "# we have to let python know where to look in our google drive  #\n",
    "#################################################################\n",
    "\n",
    "%run tools.ipynb \n",
    "# Some behind-the-scenes tools to simplify some complicated code\n"
   ]
  },
  {
   "cell_type": "markdown",
   "metadata": {
    "colab_type": "text",
    "id": "71LPrk2GChfE"
   },
   "source": [
    "Next, we need to initialize our simulation."
   ]
  },
  {
   "cell_type": "code",
   "execution_count": null,
   "metadata": {
    "colab": {},
    "colab_type": "code",
    "executionInfo": {
     "elapsed": 31858,
     "status": "ok",
     "timestamp": 1592925585746,
     "user": {
      "displayName": "Katie Chamberlain",
      "photoUrl": "",
      "userId": "02373325167538393139"
     },
     "user_tz": 420
    },
    "id": "69JN0zeGChfH"
   },
   "outputs": [],
   "source": [
    "# This tells the rebound package that we want to start a simulation. This simulation is called 'sim'!\n",
    "sim = rebound.Simulation()"
   ]
  },
  {
   "cell_type": "markdown",
   "metadata": {
    "colab_type": "text",
    "id": "d7l1fQwDChfR"
   },
   "source": [
    "When we talk about the masses of stars, timescales, etc., we have to specify the unit that we are listing these values in. \n",
    "\n",
    "Astronomers typically use solar masses, or $\\textrm{M}_\\odot$. For a star that has 2 times as much mass as our Sun, we say it has a mass of $2\\textrm{M}_\\odot$. If a star is half as massive as our Sun, it has a mass of $0.5\\textrm{M}_\\odot$. Similarly, the year is defined by how long it takes for the Earth to complete one revolution around the Sun. An astronomical unit (AU) is the distance between the Earth and the Sun. These are the natural units for our own Solar System, and we tend to talk about all other planetary systems in these same units.\n",
    "\n",
    "\n",
    "To make things easier for ourselves, let's tell the simulation to use the same units we're familiar with! \n",
    "\n",
    "In all astronomical simulations, the units of the system are scaled relative to the gravitational constant $G$, which is used when calculating gravitational forces. By defining the value for $G$, we define many of the units for all other parameters in the simulation. In our Solar System units, the value of $G=4\\pi^{2}$ $\\textrm{AU}^{3}$ $\\textrm{M}_{\\odot}^{-1}$ yr$^{-2}$. For reference, $4 \\pi^2 \\approx 39.5$."
   ]
  },
  {
   "cell_type": "code",
   "execution_count": null,
   "metadata": {
    "colab": {},
    "colab_type": "code",
    "id": "3YtImB62ChfS"
   },
   "outputs": [],
   "source": [
    "# Fill in the right value of G for solar masses, AU, and years\n",
    "sim.G = 4.*np.pi**2.\n",
    "\n",
    "# We'll also set the correct units for our simulation\n",
    "sim.units = ('yr', 'AU', 'Msun')"
   ]
  },
  {
   "cell_type": "markdown",
   "metadata": {
    "colab_type": "text",
    "id": "_ky5ZCuaChfZ"
   },
   "source": [
    "Now, let's add a star to our simulation. <font color='red'>**Make sure that your star is always the first thing you add to a simulation!**</font>"
   ]
  },
  {
   "cell_type": "code",
   "execution_count": null,
   "metadata": {
    "colab": {},
    "colab_type": "code",
    "id": "LECOeK9hChfa"
   },
   "outputs": [],
   "source": [
    "# m = is where you write the mass of the star in solar masses, and 'hash' allows us to give a name to our star!\n",
    "sim.add(m=1., hash='Sun')  # This adds a 1 solar mass star at the center of our simulation named 'Sun'."
   ]
  },
  {
   "cell_type": "markdown",
   "metadata": {
    "colab_type": "text",
    "id": "4fAwdHLhChfi"
   },
   "source": [
    "We can now add a planet.  Let's add a planet with the same mass as at the distance of the Earth (1 AU).  Remember that we need to convert all of our units to years, AU, and solar masses - including our planets, even though they are much less massive than the Sun. If you Google the mass of Jupiter, you're likely to find a number like 317 Earth masses. A useful conversion to remember is $1 \\textrm{ M}_{\\odot} \\approx 333,000 \\textrm{ M}_{\\textrm{Earth}}$:\n",
    "\n",
    "$$\\frac{\\textrm{Jupiter}}{\\textrm{Sun}}=\\frac{317 \\textrm{ Earth masses}}{333,000\\textrm{ Earth masses}}\\approx\\frac{1}{1000}=1\\textrm{e}{-3}$$\n",
    "\n",
    "To make things a little easier in the future, I'm going to give you all the masses of each planet (and also the dwarf planet Pluto just for fun)! "
   ]
  },
  {
   "cell_type": "code",
   "execution_count": null,
   "metadata": {
    "colab": {},
    "colab_type": "code",
    "id": "fWJYrjddChfi"
   },
   "outputs": [],
   "source": [
    "# masses are all going to be in kg. In order to get masses in solar masses, just divide each one by the mass of the sun!\n",
    "\n",
    "mass_Sun     = 1.989e30\n",
    "mass_Mercury = 3.285e23\n",
    "mass_Venus   = 4.867e24 # similar to the mass of the earth!\n",
    "mass_Earth   = 5.972e24\n",
    "mass_Mars    = 6.390e23\n",
    "mass_Jupiter = 1.898e27\n",
    "mass_Saturn  = 5.683e26\n",
    "mass_Uranus  = 8.681e25\n",
    "mass_Neptune = 1.024e26\n",
    "mass_Pluto   = 1.309e22 # not a planet, but still fun to plot!\n",
    "\n",
    "# here, the mass of Jupiter in solar masses is mass_Jupiter/mass_Sun."
   ]
  },
  {
   "cell_type": "markdown",
   "metadata": {
    "colab_type": "text",
    "id": "VrpfotopChfq"
   },
   "source": [
    "We also need to fill in the distance of each planet from the Sun! This link might be helpful: \n",
    "http://hyperphysics.phy-astr.gsu.edu/hbase/Solar/soldata.html#c1 \n",
    "\n",
    "You might find this link useful for a lot of what we do for this research project.\n",
    "\n",
    "Try to recall what $a$ means!"
   ]
  },
  {
   "cell_type": "code",
   "execution_count": null,
   "metadata": {
    "colab": {},
    "colab_type": "code",
    "id": "JpPADI9rChfr"
   },
   "outputs": [],
   "source": [
    "# the following distances are all in AU!\n",
    "a_Mercury = 0.387\n",
    "a_Venus   = 0.723\n",
    "a_Earth   = 1\n",
    "a_Mars    = 1.523\n",
    "a_Jupiter = 5.205\n",
    "a_Saturn  = 9.582\n",
    "a_Uranus  = 19.2\n",
    "a_Neptune = 30.05\n",
    "a_Pluto   = 39.48\n"
   ]
  },
  {
   "cell_type": "markdown",
   "metadata": {
    "colab_type": "text",
    "id": "8IHclR3LChfx"
   },
   "source": [
    "Recall from yesterday that there are 6 unique parameters that are needed to define an orbit: semi-major axis (a), eccentricity (e), inclination (inc or $i$), argument of pericenter (omega or $\\omega$), longitude of the ascending node (Omega or $\\Omega$), and true anomaly (f). To add a planet to your simulation, all of these parameters and the planet mass must be defined. However, *if you don't give a value for a parameter to Rebound, it will be set to be 0.* We can define the orbital elements of our planet using: m (for mass), a (for semi-major Axis), e (eccentricity), inc (inclination), omega (argument of periapsis), Omega (longitude of ascending node), and f (true anomaly).  \n"
   ]
  },
  {
   "cell_type": "code",
   "execution_count": null,
   "metadata": {
    "colab": {},
    "colab_type": "code",
    "id": "b_-lvspXChfy"
   },
   "outputs": [],
   "source": [
    "# Remember that inc, omega, Omega, and f have to be in radians!\n",
    "# Here is the template for adding a planet:\n",
    "# sim.add(m = mass, a = semi-major axis, e = eccentricity, inc = inclination, omega = a of periapsis, Omega = l of Ascending Node, f = True Anomaly, hash='Planet Name')\n",
    "\n",
    "# We'll add Jupiter, and ignore all the parameters except the mass and distance:\n",
    "sim.add(m=mass_Jupiter/mass_Sun, a=1, hash='Planet') \n",
    "\n",
    "# Because we've added more than 1 body to our simulation, we need to reset the center\n",
    "# of the simulation before we can run it.\n",
    "sim.move_to_com()\n"
   ]
  },
  {
   "cell_type": "markdown",
   "metadata": {
    "colab_type": "text",
    "id": "auNTvk07Chf2"
   },
   "source": [
    "Let's now make a plot of this planet and its orbit.  Rebound has a very nice function that we can call that will plot things for us automatically."
   ]
  },
  {
   "cell_type": "code",
   "execution_count": null,
   "metadata": {
    "colab": {
     "base_uri": "https://localhost:8080/",
     "height": 338
    },
    "colab_type": "code",
    "executionInfo": {
     "elapsed": 1026,
     "status": "ok",
     "timestamp": 1592860986203,
     "user": {
      "displayName": "Katie Chamberlain",
      "photoUrl": "",
      "userId": "02373325167538393139"
     },
     "user_tz": 420
    },
    "id": "cmCaZSKAChf3",
    "outputId": "1d82904a-0b63-40d0-8d51-98adc285ab57"
   },
   "outputs": [],
   "source": [
    "fig,ax = rebound.OrbitPlot(sim, unitlabel=\"(AU)\", color=True)\n",
    "ax.set_xlim(-1,1)\n",
    "ax.set_ylim(-1,1)\n",
    "plt.show()"
   ]
  },
  {
   "cell_type": "markdown",
   "metadata": {
    "colab_type": "text",
    "id": "oZszT6mLChf9"
   },
   "source": [
    "Now, let's evolve the orbit of our planet forward in time.\n",
    "\n",
    "We're going to do this next part in our breakout rooms! \n",
    "\n",
    "<br/><br/>\n",
    "<br/><br/>\n",
    "<font color='steelblue' size=4>**[ Breakout rooms! ]**</font>\n",
    "<br/><br/>\n",
    "<br/><br/>\n",
    "\n",
    "\n",
    "Rebound plotted the position and previous orbit of the planet that we added. But what if we want to see where I'll planet will go in the future? \n",
    "\n",
    "The Rebound simulation stores the time in the variable ```sim.t```. We can check what the time is at any point by printing out the value of this variable. To evolve our orbit forward in time, we use the Rebound function ```sim.integrate``` which will evolve our system in time from 0 years up to the time we specify."
   ]
  },
  {
   "cell_type": "code",
   "execution_count": null,
   "metadata": {
    "colab": {
     "base_uri": "https://localhost:8080/",
     "height": 34
    },
    "colab_type": "code",
    "executionInfo": {
     "elapsed": 785,
     "status": "ok",
     "timestamp": 1592860986204,
     "user": {
      "displayName": "Katie Chamberlain",
      "photoUrl": "",
      "userId": "02373325167538393139"
     },
     "user_tz": 420
    },
    "id": "MdBKDFvhLteM",
    "outputId": "e0b30e0f-07d3-4897-b70c-a25a9367c436"
   },
   "outputs": [],
   "source": [
    "# We can find the current time in the simulation by looking at sim.t\n",
    "print(sim.t)\n"
   ]
  },
  {
   "cell_type": "markdown",
   "metadata": {
    "colab_type": "text",
    "id": "Txsj_2RELzfZ"
   },
   "source": [
    "Let's evolve our system for half of a year. We want to see how the system will evolve from t = 0 to t = t$_{\\rm end}$, the end time. What time will we put in the function below? "
   ]
  },
  {
   "cell_type": "code",
   "execution_count": null,
   "metadata": {
    "colab": {
     "base_uri": "https://localhost:8080/",
     "height": 234
    },
    "colab_type": "code",
    "executionInfo": {
     "elapsed": 764,
     "status": "error",
     "timestamp": 1592860986467,
     "user": {
      "displayName": "Katie Chamberlain",
      "photoUrl": "",
      "userId": "02373325167538393139"
     },
     "user_tz": 420
    },
    "id": "AoJeAYqVMjfv",
    "outputId": "c9c4c54b-6a88-4da4-86d2-0f27d132ae92"
   },
   "outputs": [],
   "source": [
    "# this cell will not run correctly unless we change t_end\n",
    "\n",
    "sim.integrate(t_end) # this is the function that evolves the system from t = 0 to t = t_end.\n",
    "\n",
    "# Now, let's see what our simulation says the new time is.\n",
    "print(sim.t)"
   ]
  },
  {
   "cell_type": "code",
   "execution_count": null,
   "metadata": {
    "colab": {
     "base_uri": "https://localhost:8080/",
     "height": 338
    },
    "colab_type": "code",
    "executionInfo": {
     "elapsed": 1001,
     "status": "ok",
     "timestamp": 1592860987051,
     "user": {
      "displayName": "Katie Chamberlain",
      "photoUrl": "",
      "userId": "02373325167538393139"
     },
     "user_tz": 420
    },
    "id": "9ikzE4K0Chf-",
    "outputId": "1817fbe4-a58c-41a9-aa63-0dfde76f700e"
   },
   "outputs": [],
   "source": [
    "# As an important note, we've now forever modified the simulation. \n",
    "# What this means, is that we've evolved the system, so if we try \n",
    "# to make the same plot from above, we will see that the system have changed!\n",
    "\n",
    "# If you want to restart the entire simulation to this point, \n",
    "# use the menu up top to do *Runtime* > *Run Above* and then re-run this cell.\n",
    "\n",
    "fig, ax = rebound.OrbitPlot(sim, unitlabel=\"(AU)\", color=True)\n",
    "ax.set_xlim(-1,1)\n",
    "ax.set_ylim(-1,1)\n",
    "plt.show()"
   ]
  },
  {
   "cell_type": "markdown",
   "metadata": {
    "colab_type": "text",
    "id": "ZgXpamAXNUI8"
   },
   "source": [
    "We can see that the planet has moved forward by half an orbit! <font color='cornflowerblue'>**Why does 1/2 of a year correspond to half of an orbit in this simulation?**</font> \n",
    "\n",
    "*Hint: we mentioned something about this yesterday!*\n",
    "<br/><br/>\n",
    "<br/><br/>\n",
    "<br/><br/>\n",
    "<br/><br/>"
   ]
  },
  {
   "cell_type": "markdown",
   "metadata": {
    "colab_type": "text",
    "id": "7Jnh3XFJNxbN"
   },
   "source": [
    "Let's see what happens if we run the simulation for 100 years!! "
   ]
  },
  {
   "cell_type": "code",
   "execution_count": null,
   "metadata": {
    "colab": {
     "base_uri": "https://localhost:8080/",
     "height": 355
    },
    "colab_type": "code",
    "executionInfo": {
     "elapsed": 644,
     "status": "ok",
     "timestamp": 1592860988225,
     "user": {
      "displayName": "Katie Chamberlain",
      "photoUrl": "",
      "userId": "02373325167538393139"
     },
     "user_tz": 420
    },
    "id": "gU2qm_xQChgD",
    "outputId": "103facb4-97fd-480d-b604-739aa3d4bef3"
   },
   "outputs": [],
   "source": [
    "# We can run our simulation for even longer.\n",
    "# The longer you integrate, the longer the code will take to run.\n",
    "sim.integrate(100) # integrate to a end time of 100 years\n",
    "print(sim.t)\n",
    "\n",
    "\n",
    "fig,ax = rebound.OrbitPlot(sim, unitlabel=\"(AU)\", color=True)\n",
    "ax.set_xlim(-1,1)\n",
    "ax.set_ylim(-1,1)\n",
    "plt.show()\n",
    "#plt.savefig('test.png')"
   ]
  },
  {
   "cell_type": "markdown",
   "metadata": {
    "colab_type": "text",
    "id": "twwkqOzMOBGK"
   },
   "source": [
    "Hmm... so we started with the planet on the very right part of the diagram. And we went forward exactly 100 years. Why is our planet not on the very right side of the diagram like the first one we made? "
   ]
  },
  {
   "cell_type": "code",
   "execution_count": null,
   "metadata": {
    "colab": {
     "base_uri": "https://localhost:8080/",
     "height": 34
    },
    "colab_type": "code",
    "executionInfo": {
     "elapsed": 481,
     "status": "ok",
     "timestamp": 1592860988574,
     "user": {
      "displayName": "Katie Chamberlain",
      "photoUrl": "",
      "userId": "02373325167538393139"
     },
     "user_tz": 420
    },
    "id": "dknIiyYoChgJ",
    "outputId": "5e106147-45f9-472a-f655-e06937ac7f31"
   },
   "outputs": [],
   "source": [
    "orbits = sim.calculate_orbits() # Calculate all planet orbits at the simulation's current time\n",
    "\n",
    "for orbit in orbits: # This for loop will print out the orbit of each planet in your simulation\n",
    "    print(orbit)"
   ]
  },
  {
   "cell_type": "markdown",
   "metadata": {
    "colab_type": "text",
    "id": "UQmbCjeHQUVj"
   },
   "source": [
    "While $a$ is very close to 1, and most of the rest of the numbers are close to 0, they are not exactly 0.  In any system where there is more than one body with mass (i.e., any planetary system), the orbits **will** change, even if it is a small, non-catastrophic change. In this case, what we're seeing is called *orbital precession*, or a predictable change over time in the orbit.\n",
    "\n",
    "\n",
    "<font color='cornflowerblue'>**Let's explore how different parameters change the orbit!**</font> \n",
    "<br/><br/>\n",
    "<br/><br/>\n"
   ]
  },
  {
   "cell_type": "code",
   "execution_count": null,
   "metadata": {
    "colab": {},
    "colab_type": "code",
    "id": "r1IhQWaaQTZe"
   },
   "outputs": [],
   "source": [
    "# here, we will start a new simulation, add our Sun, \n",
    "# then add a couple planets, changing one parameter \n",
    "# at a time and seeing how the orbits change:\n",
    "\n",
    "# here is an example of adding a planet with all of the parameters we've talked about.\n",
    "# sim.add(m = mass, a = semi-major axis, e = eccentricity, inc = inclination, omega = a of periapsis, Omega = l of Ascending Node, f = True Anomaly, hash='Planet Name')\n",
    "\n",
    "# how do we start a new simulation and add a star?\n"
   ]
  },
  {
   "cell_type": "markdown",
   "metadata": {
    "colab_type": "text",
    "id": "YPwDpX3GChgQ"
   },
   "source": [
    "<br/><br/>\n",
    "<br/><br/>\n",
    "\n",
    "Now, let's set up a new simulation to explore some other things we can do.  To make things easier, I'm going to create a Python _definition_, or a user-written function that we can call.  The definition has to be defined before you try to use it.  With this definition, we don't have to re-type all the modifications we made to our initial simulation every time we want to make a new one.  Instead, we only have to call our definition (```start_new_sim```) and provide it the stellar mass (in solar masses) as an argument. Note that this definition only works within this notebook, but if you make a new notebook and want to use it again, you can (AND SHOULD) copy it from here and paste it into the new notebook. "
   ]
  },
  {
   "cell_type": "code",
   "execution_count": null,
   "metadata": {
    "colab": {},
    "colab_type": "code",
    "id": "uSS_t8JMChgQ"
   },
   "outputs": [],
   "source": [
    "def start_new_sim(star_mass): \n",
    "    ''' \n",
    "    We have to give our function a unique name, \n",
    "    and we can pass parameters to it \n",
    "    '''\n",
    "    sim = rebound.Simulation()\n",
    "    sim.G = 4.*np.pi**2.\n",
    "    sim.units = ('yr', 'AU', 'Msun')\n",
    "    sim.add(m=star_mass)  # Here, we use the variables we passed to the definition to initialize our star\n",
    "    return sim # We always need to return from our definition; here, we want to pass back our simulation"
   ]
  },
  {
   "cell_type": "markdown",
   "metadata": {
    "colab_type": "text",
    "id": "LDkzEvsHTK4r"
   },
   "source": [
    "Great! Now we have a function that will allow us to start a new simulation with just one line! We'll still have to manually add all our planets though! Let's add a Mars-like planet this time! "
   ]
  },
  {
   "cell_type": "code",
   "execution_count": null,
   "metadata": {
    "colab": {
     "base_uri": "https://localhost:8080/",
     "height": 338
    },
    "colab_type": "code",
    "executionInfo": {
     "elapsed": 744,
     "status": "ok",
     "timestamp": 1592860991215,
     "user": {
      "displayName": "Katie Chamberlain",
      "photoUrl": "",
      "userId": "02373325167538393139"
     },
     "user_tz": 420
    },
    "id": "tPAQ_cXgChgU",
    "outputId": "3bdf99e8-fa2c-4c6c-b2ac-3cd527b790f1"
   },
   "outputs": [],
   "source": [
    "sim = start_new_sim(1) # this starts a new simulation with a star that is 1 solar mass\n",
    "\n",
    "# adding Mars-like planet!\n",
    "# Mars is ~1.5AU from the sun\n",
    "sim.add(m=mass_Mars/mass_Sun, a=a_Mars)\n",
    "sim.move_to_com()\n",
    "\n",
    "fig, ax = rebound.OrbitPlot(sim, unitlabel=\"(AU)\", color=True)\n",
    "ax.set_xlim(-2,2)\n",
    "ax.set_ylim(-2,2) # notice that we changed the x and y axis limits!!\n",
    "plt.show()"
   ]
  },
  {
   "cell_type": "markdown",
   "metadata": {
    "colab_type": "text",
    "id": "5xdvJyKiUobf"
   },
   "source": [
    "Hmm... this looks just like the plots we made above. Now let's see how different parameters change the shape of the orbit! "
   ]
  },
  {
   "cell_type": "code",
   "execution_count": null,
   "metadata": {
    "colab": {
     "base_uri": "https://localhost:8080/",
     "height": 501
    },
    "colab_type": "code",
    "executionInfo": {
     "elapsed": 610,
     "status": "ok",
     "timestamp": 1592860992328,
     "user": {
      "displayName": "Katie Chamberlain",
      "photoUrl": "",
      "userId": "02373325167538393139"
     },
     "user_tz": 420
    },
    "id": "6eyWqJmYUnjY",
    "outputId": "1167e7f9-91ac-486f-f52b-b482e1d9f156"
   },
   "outputs": [],
   "source": [
    "sim = start_new_sim(1) # this starts a new simulation with a star that is 1 solar mass\n",
    "\n",
    "# adding Mars-like planet!\n",
    "# Mars is ~1.5AU from the sun\n",
    "sim.add(m=mass_Mars/mass_Sun, a=a_Mars, e = 0)\n",
    "sim.add(m=mass_Mars/mass_Sun, a=a_Mars, e = 0.3)\n",
    "sim.add(m=mass_Mars/mass_Sun, a=a_Mars, e = 0.5)\n",
    "sim.add(m=mass_Mars/mass_Sun, a=a_Mars, e = 0.9)\n",
    "sim.move_to_com()\n",
    "\n",
    "fig, ax = rebound.OrbitPlot(sim, figsize=(8,8),  unitlabel=\"(AU)\", color=True)\n",
    "ax.set_xlim(-4,4)\n",
    "ax.set_ylim(-4,4) # notice that we changed the x and y axis limits!!\n",
    "plt.show()\n",
    "\n",
    "# what parameter did I change here?"
   ]
  },
  {
   "cell_type": "markdown",
   "metadata": {
    "colab_type": "text",
    "id": "blpbaVNtVcW3"
   },
   "source": [
    "Okay, so now we know that changing the eccentricity changes the shape of the orbit a LOT! Cool. What about the Argument of Periapsis?\n"
   ]
  },
  {
   "cell_type": "code",
   "execution_count": null,
   "metadata": {
    "colab": {
     "base_uri": "https://localhost:8080/",
     "height": 501
    },
    "colab_type": "code",
    "executionInfo": {
     "elapsed": 691,
     "status": "ok",
     "timestamp": 1592860993418,
     "user": {
      "displayName": "Katie Chamberlain",
      "photoUrl": "",
      "userId": "02373325167538393139"
     },
     "user_tz": 420
    },
    "id": "VnzJpQizVQAw",
    "outputId": "0e24627b-c955-4c30-bf96-d1cb083beada"
   },
   "outputs": [],
   "source": [
    "sim = start_new_sim(1) # this starts a new simulation with a star that is 1 solar mass\n",
    "\n",
    "# adding Mars-like planet!\n",
    "# Mars is ~1.5AU from the sun\n",
    "sim.add(m=mass_Mars/mass_Sun, a=a_Mars, e = 0.2, omega = radians(0))\n",
    "sim.add(m=mass_Mars/mass_Sun, a=a_Mars, e = 0.2, omega = radians(90))\n",
    "sim.add(m=mass_Mars/mass_Sun, a=a_Mars, e = 0.2, omega = radians(180))\n",
    "sim.add(m=mass_Mars/mass_Sun, a=a_Mars, e = 0.2, omega = radians(270))\n",
    "sim.move_to_com()\n",
    "\n",
    "fig, ax = rebound.OrbitPlot(sim, figsize=(8,8),  unitlabel=\"(AU)\", color=True)\n",
    "ax.set_xlim(-4,4)\n",
    "ax.set_ylim(-4,4) # notice that we changed the x and y axis limits!!\n",
    "plt.show()\n",
    "\n",
    "# what parameter did I change here?"
   ]
  },
  {
   "cell_type": "markdown",
   "metadata": {
    "colab_type": "text",
    "id": "kUv2AaXyVxXw"
   },
   "source": [
    "Very. Cool. "
   ]
  },
  {
   "cell_type": "code",
   "execution_count": null,
   "metadata": {
    "colab": {
     "base_uri": "https://localhost:8080/",
     "height": 501
    },
    "colab_type": "code",
    "executionInfo": {
     "elapsed": 779,
     "status": "ok",
     "timestamp": 1592860994303,
     "user": {
      "displayName": "Katie Chamberlain",
      "photoUrl": "",
      "userId": "02373325167538393139"
     },
     "user_tz": 420
    },
    "id": "r06ccR2eV5Bx",
    "outputId": "e1db26a7-9f32-4644-9573-7ebc479edf9e"
   },
   "outputs": [],
   "source": [
    "sim = start_new_sim(1) # this starts a new simulation with a star that is 1 solar mass\n",
    "\n",
    "# adding Mars-like planet!\n",
    "# Mars is ~1.5AU from the sun\n",
    "sim.add(m=mass_Mars/mass_Sun, a=a_Mars, inc = 0)\n",
    "sim.add(m=mass_Mars/mass_Sun, a=a_Mars, inc = radians(90))\n",
    "sim.add(m=mass_Mars/mass_Sun, a=a_Mars, inc = radians(180))\n",
    "sim.add(m=mass_Mars/mass_Sun, a=a_Mars, inc = radians(45))\n",
    "sim.move_to_com()\n",
    "\n",
    "fig, ax = rebound.OrbitPlot(sim, figsize=(8,8),  unitlabel=\"(AU)\", color=True)\n",
    "ax.set_xlim(-4,4)\n",
    "ax.set_ylim(-4,4) # notice that we changed the x and y axis limits!!\n",
    "plt.show()\n",
    "\n",
    "# how about here? "
   ]
  },
  {
   "cell_type": "markdown",
   "metadata": {
    "colab_type": "text",
    "id": "fz3iecp9WHGv"
   },
   "source": [
    "Wait.... what happened to this blue line? <font color='cornflowerblue'>**Can anyone explain what happened to this planet's orbit?**</font> \n",
    "<br/><br/>\n",
    "<br/><br/>\n",
    "\n",
    "\n",
    "\n",
    "Let's see how we can make these plots a little more interactive!\n",
    "<br/><br/>\n",
    "<br/><br/>\n",
    "<br/><br/>\n",
    "<br/><br/>\n",
    "\n",
    "\n",
    "Google drive and Colaboratory does not have Java support, which means we can't look at these interactive figures. Instead, we can move over to: [here](http://tinyurl.com/WSP-Exoplanets2020). This will open up a \"Binder\" where we can run Jupyter Notebooks!\n",
    "\n",
    "\n"
   ]
  },
  {
   "cell_type": "code",
   "execution_count": null,
   "metadata": {},
   "outputs": [],
   "source": []
  }
 ],
 "metadata": {
  "colab": {
   "collapsed_sections": [],
   "name": "2_IntroToSimulations.ipynb",
   "provenance": []
  },
  "kernelspec": {
   "display_name": "Python 3",
   "language": "python",
   "name": "python3"
  },
  "language_info": {
   "codemirror_mode": {
    "name": "ipython",
    "version": 3
   },
   "file_extension": ".py",
   "mimetype": "text/x-python",
   "name": "python",
   "nbconvert_exporter": "python",
   "pygments_lexer": "ipython3",
   "version": "3.6.10"
  },
  "toc": {
   "base_numbering": 1,
   "nav_menu": {},
   "number_sections": true,
   "sideBar": true,
   "skip_h1_title": false,
   "title_cell": "Table of Contents",
   "title_sidebar": "Contents",
   "toc_cell": false,
   "toc_position": {},
   "toc_section_display": true,
   "toc_window_display": false
  },
  "widgets": {
   "application/vnd.jupyter.widget-state+json": {
    "1c8d18b6216e48a986d752fb2233f647": {
     "model_module": "@jupyter-widgets/base",
     "model_name": "DOMWidgetModel",
     "state": {
      "N": 5,
      "_dom_classes": [],
      "_model_module": "@jupyter-widgets/base",
      "_model_module_version": "1.2.0",
      "_model_name": "DOMWidgetModel",
      "_view_count": null,
      "_view_module": "rebound",
      "_view_module_version": "",
      "_view_name": "ReboundView",
      "count": 2,
      "height": 200,
      "layout": "IPY_MODEL_5a9c845143824b6bbabefe5629d77d53",
      "orbits": true,
      "orientation": [
       0,
       0,
       0,
       1
      ],
      "overlay": "REBOUND (ias15), N=5, t=0",
      "scale": 1.6752994617821397,
      "screenshot": "",
      "screenshotcount": 0,
      "t": 0,
      "width": 200
     }
    },
    "306240495b0d41e5a1aad63b8cb86574": {
     "model_module": "@jupyter-widgets/base",
     "model_name": "DOMWidgetModel",
     "state": {
      "N": 2,
      "_dom_classes": [],
      "_model_module": "@jupyter-widgets/base",
      "_model_module_version": "1.2.0",
      "_model_name": "DOMWidgetModel",
      "_view_count": null,
      "_view_module": "rebound",
      "_view_module_version": "",
      "_view_name": "ReboundView",
      "count": 402,
      "height": 500,
      "layout": "IPY_MODEL_e6189dd976d546f7afe3da8778049434",
      "orbits": true,
      "orientation": [
       0,
       0,
       0,
       1
      ],
      "overlay": "REBOUND (ias15), N=2, t=5",
      "scale": 3,
      "screenshot": "",
      "screenshotcount": 0,
      "t": 5.0000000000000036,
      "width": 500
     }
    },
    "5a9c845143824b6bbabefe5629d77d53": {
     "model_module": "@jupyter-widgets/base",
     "model_name": "LayoutModel",
     "state": {
      "_model_module": "@jupyter-widgets/base",
      "_model_module_version": "1.2.0",
      "_model_name": "LayoutModel",
      "_view_count": null,
      "_view_module": "@jupyter-widgets/base",
      "_view_module_version": "1.2.0",
      "_view_name": "LayoutView",
      "align_content": null,
      "align_items": null,
      "align_self": null,
      "border": null,
      "bottom": null,
      "display": null,
      "flex": null,
      "flex_flow": null,
      "grid_area": null,
      "grid_auto_columns": null,
      "grid_auto_flow": null,
      "grid_auto_rows": null,
      "grid_column": null,
      "grid_gap": null,
      "grid_row": null,
      "grid_template_areas": null,
      "grid_template_columns": null,
      "grid_template_rows": null,
      "height": null,
      "justify_content": null,
      "justify_items": null,
      "left": null,
      "margin": null,
      "max_height": null,
      "max_width": null,
      "min_height": null,
      "min_width": null,
      "object_fit": null,
      "object_position": null,
      "order": null,
      "overflow": null,
      "overflow_x": null,
      "overflow_y": null,
      "padding": null,
      "right": null,
      "top": null,
      "visibility": null,
      "width": null
     }
    },
    "e6189dd976d546f7afe3da8778049434": {
     "model_module": "@jupyter-widgets/base",
     "model_name": "LayoutModel",
     "state": {
      "_model_module": "@jupyter-widgets/base",
      "_model_module_version": "1.2.0",
      "_model_name": "LayoutModel",
      "_view_count": null,
      "_view_module": "@jupyter-widgets/base",
      "_view_module_version": "1.2.0",
      "_view_name": "LayoutView",
      "align_content": null,
      "align_items": null,
      "align_self": null,
      "border": null,
      "bottom": null,
      "display": null,
      "flex": null,
      "flex_flow": null,
      "grid_area": null,
      "grid_auto_columns": null,
      "grid_auto_flow": null,
      "grid_auto_rows": null,
      "grid_column": null,
      "grid_gap": null,
      "grid_row": null,
      "grid_template_areas": null,
      "grid_template_columns": null,
      "grid_template_rows": null,
      "height": null,
      "justify_content": null,
      "justify_items": null,
      "left": null,
      "margin": null,
      "max_height": null,
      "max_width": null,
      "min_height": null,
      "min_width": null,
      "object_fit": null,
      "object_position": null,
      "order": null,
      "overflow": null,
      "overflow_x": null,
      "overflow_y": null,
      "padding": null,
      "right": null,
      "top": null,
      "visibility": null,
      "width": null
     }
    }
   }
  }
 },
 "nbformat": 4,
 "nbformat_minor": 1
}
