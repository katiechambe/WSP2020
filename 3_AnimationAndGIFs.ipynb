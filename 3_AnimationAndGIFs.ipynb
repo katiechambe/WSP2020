{
 "cells": [
  {
   "cell_type": "markdown",
   "metadata": {
    "colab_type": "text",
    "id": "HQqhRFjJHldN"
   },
   "source": [
    "<font size=5 color='cornflowerblue'>***Animations* of planetary systems!**</font>\n",
    "\n",
    "In the previous interactive workbook, we explored the orbits of planets around their stars using the interactive widgets. In this notebook, we will explore some orbits using animations and we will create our own gifs."
   ]
  },
  {
   "cell_type": "code",
   "execution_count": null,
   "metadata": {
    "colab": {},
    "colab_type": "code",
    "id": "gbwGmUynHldQ"
   },
   "outputs": [],
   "source": [
    "import rebound\n",
    "import numpy as np\n",
    "import matplotlib.pyplot as plt\n",
    "import imageio # this is new! We're going to be saving our animations as gifs!\n",
    "\n",
    "# so we can make plots\n",
    "%matplotlib inline \n",
    "%run tools.ipynb  # Some behind-the-scenes tools to simplify some complicated code\n"
   ]
  },
  {
   "cell_type": "markdown",
   "metadata": {
    "colab_type": "text",
    "id": "5rjFRl2eHlda"
   },
   "source": [
    "We created a definition in the previous notebook to start a new simulation and add a star! We have to redefine that function in this notebook now:\n"
   ]
  },
  {
   "cell_type": "code",
   "execution_count": null,
   "metadata": {
    "colab": {},
    "colab_type": "code",
    "id": "CE0EwWT6Hldf"
   },
   "outputs": [],
   "source": [
    "def start_new_sim(star_mass): # We have to give our def a unique name, and we can pass parameters to it\n",
    "    sim = rebound.Simulation()\n",
    "    sim.G = 4.*pi**2.\n",
    "    sim.units = ('yr', 'AU', 'Msun')\n",
    "    sim.add(m=star_mass)  # Here, we use the variables we passed to the definition to initialize our star\n",
    "    return sim # We always need to return from our definition; here, we want to pass back our simulation\n"
   ]
  },
  {
   "cell_type": "markdown",
   "metadata": {
    "colab_type": "text",
    "id": "0V8BeaX4Hldm"
   },
   "source": [
    "We'll start with the plot that I asked you to make last time! \n",
    "\n",
    "Rebound has the capability to search the internet for the orbital parameters of some well known objects, like the planets. It does take a little longer though! Rebound gets the data from [this website](https://ssd.jpl.nasa.gov/horizons.cgi#top). You can try finding objects on this page yourself, if you are interested. Ask me if you need help! "
   ]
  },
  {
   "cell_type": "code",
   "execution_count": null,
   "metadata": {
    "colab": {},
    "colab_type": "code",
    "id": "CEWaj2fdeTDL"
   },
   "outputs": [],
   "source": [
    "t_final = 5 # Length of simulation in years\n",
    "N_frames = 200 # Number of frames in the animation\n",
    "\n",
    "# Start new simulation - you only get 1 widget per simulation, so if you want a new widget, you need a new simulation\n",
    "sim = start_new_sim(1.) # We call the definition, and we must pass the required elements\n",
    "##\n",
    "# use the documentation to figure out how to add planets by having Rebound look them up\n",
    "##\n",
    "sim.move_to_com()\n",
    "\n",
    "\n",
    "# And now integrate!\n",
    "integrate_with_widget(sim, t_final, N_frames, 22) # the 22 stands for the scale used. Increase this number if you want to zoom out!\n"
   ]
  },
  {
   "cell_type": "markdown",
   "metadata": {
    "colab_type": "text",
    "id": "ax1IZngZe6B_"
   },
   "source": [
    "We can also just add these planets manually! In the tools.ipynb notebook, I created functions that would add each of the planets to a simulation! You can use these functions by typing: `addEarth()` or `addJupiter()` etc. There are additional functions, `addInnerPlanets()` to add Mercury, Venus, Earth, and Mars, and `addOuterPlanets()` for Jupiter, Saturn, Uranus, and Neptune. Pluto can be added with `addPluto()`. "
   ]
  },
  {
   "cell_type": "code",
   "execution_count": null,
   "metadata": {
    "colab": {},
    "colab_type": "code",
    "id": "NGHzY3GQHldq",
    "scrolled": false
   },
   "outputs": [],
   "source": [
    "t_final = 50 # Length of simulation in years\n",
    "N_frames = 200 # Number of frames in the animation\n",
    "\n",
    "# Start new simulation - you only get 1 widget per simulation, so if you want a new widget, you need a new simulation\n",
    "sim = start_new_sim(1.) # We call the definition, and we must pass the required elements\n",
    "addOuterPlanets(sim) # this function adds Jupiter, Saturn, Uranus, and Neptune!\n",
    "addPluto(sim)\n",
    "sim.move_to_com()\n",
    "\n",
    "\n",
    "# And now integrate!\n",
    "integrate_with_widget(sim, t_final, N_frames, 22) # the 22 stands for the scale used. Increase this number if you want to zoom out!\n"
   ]
  },
  {
   "cell_type": "markdown",
   "metadata": {
    "colab_type": "text",
    "id": "HwAJO8VPHldw"
   },
   "source": [
    "This is a good example of an inclined orbit! Pluto got knocked around a lot by the large outer planets when it was a young dwarf planet, so it's orbit is very different than those of the planets. "
   ]
  },
  {
   "cell_type": "markdown",
   "metadata": {
    "colab_type": "text",
    "id": "ExsxwWgZHldy"
   },
   "source": [
    "<font color='cornflowerblue'>**Can you tell if Pluto could ever accidentally run into Neptune?**</font>\n",
    "<br><br>\n",
    "<br><br>\n",
    "<br><br>\n",
    "<br><br>"
   ]
  },
  {
   "cell_type": "markdown",
   "metadata": {
    "colab_type": "text",
    "id": "VpeMsSfKHldz"
   },
   "source": [
    "Let's create a plot that shows all the inner and outer planets, Pluto, *and* Asbolus, which is a large asteroid that has an *unstable orbit* close to the outer planets! Move the image around until you have a good understanding of where each planet is, and how the orbits of pluto and asbolus compare to the orbits of the planets!"
   ]
  },
  {
   "cell_type": "code",
   "execution_count": null,
   "metadata": {
    "colab": {},
    "colab_type": "code",
    "id": "ZFgr-GtoHld0"
   },
   "outputs": [],
   "source": [
    "# This plot will include all the inner planets and the \n",
    "\n",
    "t_final = 5 # Length of simulation in years\n",
    "N_frames = 200 # Number of frames in the animation\n",
    "\n",
    "# Start new simulation - you only get 1 widget per simulation, so if you want a new widget, you need a new simulation\n",
    "sim = start_new_sim(1.) # We call the definition, and we must pass the required elements\n",
    "addInnerPlanets(sim)\n",
    "# addEarth(sim) # a function I made to add earth!\n",
    "addOuterPlanets(sim) # this function adds Jupiter, Saturn, Uranus, and Neptune!\n",
    "addPluto(sim)\n",
    "addAsbolus(sim)\n",
    "sim.move_to_com()\n",
    "\n",
    "\n",
    "# And now integrate!\n",
    "integrate_with_widget(sim, t_final, N_frames, 22) # the 22 stands for the scale used. Increase this number if you want to zoom out!\n"
   ]
  },
  {
   "cell_type": "markdown",
   "metadata": {
    "colab_type": "text",
    "id": "lgiaune_Hld7"
   },
   "source": [
    "<font size=4 color='cornflowerblue'> **How do these simulations work?** </font>\n",
    "\n",
    "This simulation takes small steps forward in time. At each step, the integrator will use the laws of gravity to estimate how the positions and velocities of **every** body in the simulation change. At the next step, it will build from the positions and velocities of the star and planets calculated in the previous step.\n",
    "\n",
    "To mimic this behavior ourselves in order to create an animation (or video), the cell below uses a `for` loop to incrementally evolve our simulation forward in time. We achieve this by specifying a time step (`dt`) and the number of steps in our loop (`N_steps`). At each step, we add `dt` to the simulation's current time and \"integrate\" or evolve to this new time. Remember that `sim.integrate` takes the end time, which we have assigned to the variable `new_time`. We also generate an animation frame at each step, which will then be stitched together into an animation similar to the widget above. \n",
    "\n",
    "Note that we name our animation `ani` - the word `animation` belongs to a package we imported, so we can't use it as a variable name."
   ]
  },
  {
   "cell_type": "code",
   "execution_count": null,
   "metadata": {
    "colab": {},
    "colab_type": "code",
    "id": "HzoJVzPNHld8"
   },
   "outputs": [],
   "source": [
    "%%capture \n",
    "# This cell produces a lot of unnecessary output, so we'll capture that output instead of printing it out.\n",
    "# The next code cell will actually display the animation.\n",
    "\n",
    "dt = 0.1 # Let's go forward a tenth of a year each step\n",
    "N_steps = 20 # Let's integrate it forward for 20 steps, so 20*0.1 = 2 years\n",
    "\n",
    "# Start a fresh simulation\n",
    "sim = start_new_sim(1) # We call the definition, and we must pass the required elements\n",
    "sim.add(m=3.E-6, a=2., e=0.8, inc=radians(20.), f=radians(45.), hash='Planet')\n",
    "sim.move_to_com()\n",
    "\n",
    "# We need to create a figure (fig) and axes (ax) for the animation\n",
    "fig,ax = plt.subplots(1,1,figsize=(5,5))\n",
    "\n",
    "# The animation is created from a list of frames\n",
    "frames = []\n",
    "\n",
    "for i in range(N_steps):\n",
    "    \n",
    "    new_time = sim.t+dt # The time we want to integrate to\n",
    "    sim.integrate(new_time) # And integrate!\n",
    "    \n",
    "    frames.append(make_rebound_frame(ax,sim)) # Add the new frame to the list for animation\n",
    "       \n",
    "# Create the animation\n",
    "ani = animation.ArtistAnimation(fig, frames)\n"
   ]
  },
  {
   "cell_type": "markdown",
   "metadata": {
    "colab_type": "text",
    "id": "m93ahcqUHleC"
   },
   "source": [
    "Now let's display our animation! Use the row of control buttons below the animation to adjust the animation speed and move forward/backward through the integration steps."
   ]
  },
  {
   "cell_type": "code",
   "execution_count": null,
   "metadata": {
    "colab": {},
    "colab_type": "code",
    "id": "itaLRWUuHleE"
   },
   "outputs": [],
   "source": [
    "ani"
   ]
  },
  {
   "cell_type": "markdown",
   "metadata": {
    "colab_type": "text",
    "id": "m3L1xk1KHPOo"
   },
   "source": [
    "<font color='cornflowerblue' size=4> **Use an animation to figure out what Jupiter's Orbital Period**</font>\n",
    "\n",
    "Since the only information that is used in constructing this simulation is info about the orbit, the amount of time it takes for Jupiter to orbit the sun is only related to it's orbital parameters! In particular, the orbital period is closely-related to the distance from the sun. Can you use the animation below to determine Jupiter's orbital period?"
   ]
  },
  {
   "cell_type": "code",
   "execution_count": null,
   "metadata": {
    "colab": {},
    "colab_type": "code",
    "id": "ixuAcjpFHTPu"
   },
   "outputs": [],
   "source": [
    "%%capture \n",
    "# This cell produces a lot of unnecessary output, so we'll capture that output instead of printing it out.\n",
    "# The next code cell will actually display the animation.\n",
    "\n",
    "dt = 0.1 # Let's integrate a tenth of a year each step\n",
    "N_steps = 200 # Let's integrate it forward for 20 steps, so 20*0.1 = 2 years\n",
    "\n",
    "# Start a fresh simulation\n",
    "sim = start_new_sim(1.) \n",
    "##\n",
    "# fill this part in\n",
    "##\n",
    "sim.move_to_com()\n",
    "\n",
    "# We need to create a figure (fig) and axes (ax) for the animation\n",
    "fig,ax = plt.subplots(1,1,figsize=(5,5))\n",
    "\n",
    "# The animation is created from a list of frames\n",
    "frames = []\n",
    "\n",
    "for i in range(N_steps):\n",
    "    \n",
    "    new_time = sim.t+dt # The time we want to integrate to\n",
    "    sim.integrate(new_time) # And integrate!\n",
    "    \n",
    "    frames.append(make_rebound_frame(ax,sim)) # Add the new frame to the list for animation\n",
    "       \n",
    "# Create the animation\n",
    "ani = animation.ArtistAnimation(fig, frames)"
   ]
  },
  {
   "cell_type": "code",
   "execution_count": null,
   "metadata": {
    "colab": {},
    "colab_type": "code",
    "id": "lsaswd2iuQvo"
   },
   "outputs": [],
   "source": [
    "ani"
   ]
  },
  {
   "cell_type": "markdown",
   "metadata": {
    "colab_type": "text",
    "id": "hWHE-PS8HleH"
   },
   "source": [
    "<font color='cornflowerblue' size=4>**Now you!**</font>\n",
    "\n",
    "Make an animation with 20 frames again, but use the orbits of the outer planets and Pluto. *Be warned: the more planets you add, the longer the integration will take! It will take about 30 seconds for this to run.* \n",
    "\n",
    "Take the following steps to complete this: \n",
    "1. change the time steps to be one year long, since the outer planets do not move very far in one year.\n",
    "2. start a new simulation, with the Sun, Jupiter, Saturn, Uranus, Neptune, and Pluto.\n",
    "3. Run for ~30 seconds, then run the cell that shows the animation\n"
   ]
  },
  {
   "cell_type": "code",
   "execution_count": null,
   "metadata": {
    "colab": {},
    "colab_type": "code",
    "id": "N9Ycj8NaHleI"
   },
   "outputs": [],
   "source": []
  },
  {
   "cell_type": "markdown",
   "metadata": {
    "colab_type": "text",
    "id": "4_i-PwW_HleP"
   },
   "source": [
    "<font color='cornflowerblue' size=5>**Gifs**</font>\n",
    "\n",
    "Alternatively, we can turn this animation into a gif that we can use to show our friends or family! We want to go through a series of time steps, make a plot for each time step, and save a picture at each step. "
   ]
  },
  {
   "cell_type": "code",
   "execution_count": null,
   "metadata": {
    "colab": {},
    "colab_type": "code",
    "id": "SSUhInafHleQ"
   },
   "outputs": [],
   "source": [
    "%%capture\n",
    "# this for loop will print out the image that we're saving. if you'd like to see them, uncomment the line above\n",
    "\n",
    "dt = 1 # Let's go forward a full year each step\n",
    "N_steps = 100 # Let's integrate it forward for 20 steps, so 20 years\n",
    "\n",
    "sim = start_new_sim(1) # We call the definition, and we must pass the required elements\n",
    "addOuterPlanets(sim)\n",
    "addPluto(sim)\n",
    "\n",
    "# As before, we have to re-center the simulation before evolving it forward in time\n",
    "sim.move_to_com()\n",
    "\n",
    "for i in range(N_steps):\n",
    "    \n",
    "    new_time = sim.t+dt # The time we want to integrate to\n",
    "    sim.integrate(new_time) # And integrate!\n",
    "    \n",
    "    rebound.OrbitPlot(sim, unitlabel=\"(AU)\", color=True)\n",
    "    plt.savefig('figs/step_'+str(i)+'.png')\n",
    "    "
   ]
  },
  {
   "cell_type": "markdown",
   "metadata": {
    "colab_type": "text",
    "id": "_9FbFPZaHleV"
   },
   "source": [
    "If you go back to the tab with your google drive(or if using Binder, the tab that says 'Home'), you'll see a folder listed that reads 'figs'. If you open that folder, you'll see a list of a bunch of figures! If you open one, you'll see an image of an orbit we simulated. Now, we have to stitch all of those images into a gif! \n",
    "\n",
    "We can do that by running the cell below, which goes through each image and stitches it to the previous one, and then exports the movie as a gif!"
   ]
  },
  {
   "cell_type": "code",
   "execution_count": null,
   "metadata": {
    "colab": {},
    "colab_type": "code",
    "id": "4RItk8WrHleW",
    "scrolled": true
   },
   "outputs": [],
   "source": [
    "images = []\n",
    "filenames = ['figs/step_'+str(i)+'.png' for i in range(N_steps)]\n",
    "for filename in filenames:\n",
    "    images.append(imageio.imread(filename))\n",
    "imageio.mimsave('movie.gif', images)"
   ]
  },
  {
   "cell_type": "markdown",
   "metadata": {
    "colab_type": "text",
    "id": "fd9LM8v-Hlea"
   },
   "source": [
    "You can find this 'movie.gif' file in the other table where you saw the single image. You can download this image by: (Binder:) clicking on the check box, and going to the top and pressing download (Google Docs:) Right click on the file and click download. Let me know if you have trouble with this! "
   ]
  },
  {
   "cell_type": "markdown",
   "metadata": {
    "colab_type": "text",
    "id": "LZdEn45zyfzs"
   },
   "source": [
    "<font color='cornflowerblue'>**Now, you can make whatever gifs you want!**</font> You can simulate the inner planets, the outer planets, all the planets, include Pluto, include any asteroids or comets you want (remember you can use the automated feature that Rebound has to look up all these orbital parameters easily!)\n",
    "\n",
    "You could also try: \n",
    "- making gifs of a bunch of planets that are all the same, except differ by one orbital parameter\n",
    "- finding an example of some orbits that result in a planet getting kicked out of it's planetary system\n",
    "- seeing what happens when you increase or decrease the mass of the planets\n"
   ]
  },
  {
   "cell_type": "code",
   "execution_count": null,
   "metadata": {
    "colab": {},
    "colab_type": "code",
    "id": "odoE9wr3ye0j"
   },
   "outputs": [],
   "source": []
  },
  {
   "cell_type": "markdown",
   "metadata": {
    "colab_type": "text",
    "id": "Dy9tJkWqdQWn"
   },
   "source": [
    "<sup> Notebook written by [Katie Chamberlain](katiechambe.github.io) in 2019. </sup>  "
   ]
  }
 ],
 "metadata": {
  "colab": {
   "collapsed_sections": [],
   "name": "4_AnimationAndGIFs.ipynb",
   "provenance": [],
   "toc_visible": true
  },
  "kernelspec": {
   "display_name": "Python 3",
   "language": "python",
   "name": "python3"
  },
  "language_info": {
   "codemirror_mode": {
    "name": "ipython",
    "version": 3
   },
   "file_extension": ".py",
   "mimetype": "text/x-python",
   "name": "python",
   "nbconvert_exporter": "python",
   "pygments_lexer": "ipython3",
   "version": "3.6.10"
  },
  "toc": {
   "base_numbering": 1,
   "nav_menu": {},
   "number_sections": true,
   "sideBar": true,
   "skip_h1_title": false,
   "title_cell": "Table of Contents",
   "title_sidebar": "Contents",
   "toc_cell": false,
   "toc_position": {},
   "toc_section_display": true,
   "toc_window_display": false
  }
 },
 "nbformat": 4,
 "nbformat_minor": 1
}
