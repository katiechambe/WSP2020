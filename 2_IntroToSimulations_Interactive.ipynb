{
 "cells": [
  {
   "cell_type": "markdown",
   "metadata": {},
   "source": [
    "<font color='cornflowerblue' size=4>Here is the interactive section of the 2nd exoplanets workbook! </font>\n",
    "    \n",
    "This notebook can be combined with `2_IntroToSimulations` when running locally. As of the writing of this notebook, Google Colaboratory does not offer support for the widgets found in this notebook. "
   ]
  },
  {
   "cell_type": "code",
   "execution_count": null,
   "metadata": {},
   "outputs": [],
   "source": [
    "#################################################################\n",
    "# import some packages that will make programming easier for us #\n",
    "#################################################################\n",
    "import rebound\n",
    "import numpy as np\n",
    "from numpy import *\n",
    "import matplotlib.pyplot as plt\n",
    "%matplotlib inline  \n",
    "\n",
    "#################################################################\n",
    "# in order to use other notebooks in this folder,               #\n",
    "# we have to let python know where to look in our google drive  #\n",
    "#################################################################\n",
    "\n",
    "%run tools.ipynb \n",
    "# Some behind-the-scenes tools to simplify some complicated code\n"
   ]
  },
  {
   "cell_type": "code",
   "execution_count": null,
   "metadata": {},
   "outputs": [],
   "source": [
    "# masses are all going to be in kg. In order to get masses in solar masses, just divide each one by the mass of the sun!\n",
    "mass_Sun     = 1.989e30\n",
    "mass_Mercury = 3.285e23\n",
    "mass_Venus   = 4.867e24 # similar to the mass of the earth!\n",
    "mass_Earth   = 5.972e24\n",
    "mass_Mars    = 6.390e23\n",
    "mass_Jupiter = 1.898e27\n",
    "mass_Saturn  = 5.683e26\n",
    "mass_Uranus  = 8.681e25\n",
    "mass_Neptune = 1.024e26\n",
    "mass_Pluto   = 1.309e22 # not a planet, but still fun to plot!\n",
    "\n",
    "# here, the mass of Jupiter in solar masses is mass_Jupiter/mass_Sun."
   ]
  },
  {
   "cell_type": "code",
   "execution_count": null,
   "metadata": {},
   "outputs": [],
   "source": [
    "# the following distances are all in AU!\n",
    "a_Mercury = 0.387\n",
    "a_Venus   = 0.723\n",
    "a_Earth   = 1\n",
    "a_Mars    = 1.523\n",
    "a_Jupiter = 5.205\n",
    "a_Saturn  = 9.582\n",
    "a_Uranus  = 19.2\n",
    "a_Neptune = 30.05\n",
    "a_Pluto   = 39.48\n"
   ]
  },
  {
   "cell_type": "code",
   "execution_count": null,
   "metadata": {},
   "outputs": [],
   "source": [
    "def start_new_sim(star_mass): \n",
    "    ''' \n",
    "    We have to give our function a unique name, \n",
    "    and we can pass parameters to it \n",
    "    '''\n",
    "    sim = rebound.Simulation()\n",
    "    sim.G = 4.*np.pi**2.\n",
    "    sim.units = ('yr', 'AU', 'Msun')\n",
    "    sim.add(m=star_mass)  # Here, we use the variables we passed to the definition to initialize our star\n",
    "    return sim # We always need to return from our definition; here, we want to pass back our simulation"
   ]
  },
  {
   "cell_type": "code",
   "execution_count": null,
   "metadata": {},
   "outputs": [],
   "source": [
    "sim = start_new_sim(1) # this starts a new simulation with a star that is 1 solar mass\n",
    "\n",
    "# adding Mars-like planet!\n",
    "# Mars is ~1.5AU from the sun\n",
    "sim.add(m=mass_Mars/mass_Sun, a=a_Mars, inc = 0)\n",
    "sim.add(m=mass_Mars/mass_Sun, a=a_Mars, inc = radians(90))\n",
    "sim.add(m=mass_Mars/mass_Sun, a=a_Mars, inc = radians(180))\n",
    "sim.add(m=mass_Mars/mass_Sun, a=a_Mars, inc = radians(45))\n",
    "sim.move_to_com()\n",
    "\n",
    "fig, ax = rebound.OrbitPlot(sim, figsize=(8,8),  unitlabel=\"(AU)\", color=True)\n",
    "ax.set_xlim(-4,4)\n",
    "ax.set_ylim(-4,4) # notice that we changed the x and y axis limits!!\n",
    "plt.show()"
   ]
  },
  {
   "cell_type": "markdown",
   "metadata": {},
   "source": [
    "We can also view our system in an interactive widget. If you click and drag in the widget, you can adjust your view of the system."
   ]
  },
  {
   "cell_type": "code",
   "execution_count": null,
   "metadata": {},
   "outputs": [],
   "source": [
    "# The function below launches the widget. size is the displayed size of the widget in pixels,\n",
    "# while scale sets the volume of space depicted\n",
    "sim.getWidget(scale=3,size=(500,500)) \n",
    "\n"
   ]
  },
  {
   "cell_type": "markdown",
   "metadata": {},
   "source": [
    "Let's integrate our planet's orbit forward in time. We can also use the interactive widget to watch our orbit as it evolves. We've condensed some of the code down for you into a function called ```integrate_with_widget```, which takes as arguments a simulation, a final time, and the number of frames to show as it is integrated up to the final time."
   ]
  },
  {
   "cell_type": "code",
   "execution_count": null,
   "metadata": {},
   "outputs": [],
   "source": [
    "t_final = 5 # Length of simulation in years\n",
    "N_frames = 200 # Number of frames in the animation\n",
    "\n",
    "# Start new simulation - you only get 1 widget per simulation, so if you want a new widget, you need a new simulation\n",
    "sim = start_new_sim(1.) # We call the definition, and we must pass the required elements\n",
    "sim.add(m=3e-6, a=2., e=0.8, inc=radians(20.), omega=radians(45.), Omega=radians(293.), f=radians(45.), hash='Planet')\n",
    "sim.move_to_com()\n",
    "\n",
    "# And now integrate!\n",
    "integrate_with_widget(sim, t_final, N_frames, 3)\n"
   ]
  },
  {
   "cell_type": "markdown",
   "metadata": {},
   "source": [
    "<font color='cornflowerblue' size=4> **Try it yourself:** </font>\n",
    "\n",
    "Copy everything in the cell above. This time, set the eccentricity to 0, and all the other values to zero as well. Run it to make sure it works. Then, add a *SECOND* planet, and change just one of the values to see how the orbit changes!"
   ]
  },
  {
   "cell_type": "code",
   "execution_count": null,
   "metadata": {},
   "outputs": [],
   "source": [
    "# code here! \n",
    "\n"
   ]
  },
  {
   "cell_type": "markdown",
   "metadata": {},
   "source": [
    "<font color='cornflowerblue' size=4> **Challenge:** </font>\n",
    "\n",
    "Try to make a simulation of the solar system! Only include the planets: Jupiter, Saturn, Uranus, Neptune, and the dwarf planet Pluto! Include the correct masses (already defined above), the correct distances (already defined above), the correct eccentricities (again, use data from the link provided above), and the correct names!"
   ]
  },
  {
   "cell_type": "code",
   "execution_count": null,
   "metadata": {},
   "outputs": [],
   "source": [
    "# code here: \n"
   ]
  },
  {
   "cell_type": "markdown",
   "metadata": {},
   "source": [
    "<font color='cornflowerblue' size=4> **What is Jupiter's Orbital Period?**</font>\n",
    "\n",
    "Since the only information that is used in constructing this simulation is info about the orbit, the amount of time it takes for Jupiter to orbit the sun is only related to it's orbital parameters! In particular, the orbital period is closely-related to the distance from the sun. Can you use the animation below to determine Jupiter's orbital period in terms of Earth-years (normal years, to us)."
   ]
  },
  {
   "cell_type": "code",
   "execution_count": null,
   "metadata": {},
   "outputs": [],
   "source": [
    "%%capture \n",
    "# This cell produces a lot of unnecessary output, so we'll capture that output instead of printing it out.\n",
    "# The next code cell will actually display the animation.\n",
    "\n",
    "dt = 0.1 # Let's integrate a tenth of a year each step\n",
    "N_steps = 200 # Let's integrate it forward for 20 steps, so 20*0.1 = 2 years\n",
    "\n",
    "# Start a fresh simulation\n",
    "sim = start_new_sim(1.) \n",
    "sim.add(m=3.E-6, a=1, e=0.0167,  hash='Earth')\n",
    "sim.add(m=1.E-3, a=5.2, e=0.0485, hash='Jupiter')\n",
    "sim.move_to_com()\n",
    "\n",
    "# We need to create a figure (fig) and axes (ax) for the animation\n",
    "fig,ax = plt.subplots(1,1,figsize=(5,5))\n",
    "\n",
    "# The animation is created from a list of frames\n",
    "frames = []\n",
    "\n",
    "for i in range(N_steps):\n",
    "    \n",
    "    new_time = sim.t+dt # The time we want to integrate to\n",
    "    sim.integrate(new_time) # And integrate!\n",
    "    \n",
    "    frames.append(make_rebound_frame(ax,sim)) # Add the new frame to the list for animation\n",
    "       \n",
    "# Create the animation\n",
    "ani = animation.ArtistAnimation(fig, frames)"
   ]
  },
  {
   "cell_type": "code",
   "execution_count": null,
   "metadata": {},
   "outputs": [],
   "source": [
    "ani"
   ]
  },
  {
   "cell_type": "markdown",
   "metadata": {},
   "source": [
    "<sup> Notebook written by [Katie Chamberlain](katiechambe.github.io) in 2020. </sup>  "
   ]
  }
 ],
 "metadata": {
  "kernelspec": {
   "display_name": "Python 3",
   "language": "python",
   "name": "python3"
  },
  "language_info": {
   "codemirror_mode": {
    "name": "ipython",
    "version": 3
   },
   "file_extension": ".py",
   "mimetype": "text/x-python",
   "name": "python",
   "nbconvert_exporter": "python",
   "pygments_lexer": "ipython3",
   "version": "3.6.10"
  },
  "toc": {
   "base_numbering": 1,
   "nav_menu": {},
   "number_sections": true,
   "sideBar": true,
   "skip_h1_title": false,
   "title_cell": "Table of Contents",
   "title_sidebar": "Contents",
   "toc_cell": false,
   "toc_position": {},
   "toc_section_display": true,
   "toc_window_display": false
  }
 },
 "nbformat": 4,
 "nbformat_minor": 4
}
